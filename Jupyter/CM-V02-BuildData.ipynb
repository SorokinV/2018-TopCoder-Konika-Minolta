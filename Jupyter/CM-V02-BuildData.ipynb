{
 "cells": [
  {
   "cell_type": "code",
   "execution_count": 1,
   "metadata": {
    "collapsed": true,
    "deletable": true,
    "editable": true
   },
   "outputs": [],
   "source": [
    "from __future__ import print_function\n",
    "import sys,os,datetime\n",
    "import cv2 as cv\n",
    "import cv2 as cv2\n",
    "import numpy as np\n",
    "import pandas as pd\n",
    "import matplotlib.pyplot as plt\n",
    "from sklearn.metrics import fbeta_score\n",
    "import sklearn.metrics as skm\n",
    "import csv"
   ]
  },
  {
   "cell_type": "code",
   "execution_count": 2,
   "metadata": {
    "collapsed": false,
    "deletable": true,
    "editable": true
   },
   "outputs": [
    {
     "name": "stdout",
     "output_type": "stream",
     "text": [
      "openCV 3.2.0\n",
      "numpy 1.13.3\n"
     ]
    }
   ],
   "source": [
    "print('openCV',cv.__version__)\n",
    "print('numpy',np.__version__)"
   ]
  },
  {
   "cell_type": "code",
   "execution_count": null,
   "metadata": {
    "collapsed": true,
    "deletable": true,
    "editable": true
   },
   "outputs": [],
   "source": []
  },
  {
   "cell_type": "code",
   "execution_count": 16,
   "metadata": {
    "collapsed": true,
    "deletable": true,
    "editable": true
   },
   "outputs": [],
   "source": [
    "dirTrain1 = '../Data/train/train/level-1'\n",
    "dirTrain2 = '../Data/train/train/level-2'\n",
    "dirTrain3 = '../Data/train/train/level-3'\n",
    "dirTrain  = dirTrain2\n",
    "dirDev    = '../Data/dev/dev'\n",
    "dirForSave = '../Work'"
   ]
  },
  {
   "cell_type": "code",
   "execution_count": 11,
   "metadata": {
    "collapsed": true
   },
   "outputs": [],
   "source": [
    "shape2D = (416,416)"
   ]
  },
  {
   "cell_type": "code",
   "execution_count": 17,
   "metadata": {
    "collapsed": false,
    "deletable": true,
    "editable": true
   },
   "outputs": [
    {
     "data": {
      "text/plain": [
       "(1495,\n",
       " ['1003',\n",
       "  '1009',\n",
       "  '100',\n",
       "  '1012',\n",
       "  '1018',\n",
       "  '1021',\n",
       "  '984',\n",
       "  '994',\n",
       "  '995',\n",
       "  '997',\n",
       "  '9',\n",
       "  '952',\n",
       "  '955',\n",
       "  '956',\n",
       "  '959'])"
      ]
     },
     "execution_count": 17,
     "metadata": {},
     "output_type": "execute_result"
    }
   ],
   "source": [
    "def NNTrain(dirTrain, ends='.txt') :\n",
    "    listTrain= os.listdir(dirTrain); len(listTrain); listTrain[:12]\n",
    "    listTrainNN = []\n",
    "    for ff in listTrain :\n",
    "        if ff.lower().endswith(ends) : listTrainNN.append(ff.split('_')[0])\n",
    "    return(listTrainNN)\n",
    "listTrainNN = NNTrain(dirTrain)\n",
    "len(listTrainNN), listTrainNN[:15]"
   ]
  },
  {
   "cell_type": "code",
   "execution_count": null,
   "metadata": {
    "collapsed": true,
    "deletable": true,
    "editable": true
   },
   "outputs": [],
   "source": []
  },
  {
   "cell_type": "code",
   "execution_count": 6,
   "metadata": {
    "collapsed": false,
    "deletable": true,
    "editable": true
   },
   "outputs": [],
   "source": [
    "# Build statistics on masks\n",
    "img1 = cv.imread(os.path.join(dirTrain,listTrainNN[0]+'.tif'),-1)\n",
    "img2 = cv.imread(os.path.join(dirTrain,listTrainNN[0]+'_ref.tif'),-1)\n",
    "img3 = cv.imread(os.path.join(dirTrain,listTrainNN[0]+'_mask.tif'),-1)\n",
    "if 0 :\n",
    "    for dirTrain in (dirTrain1,dirTrain2,dirTrain3) :\n",
    "        listTrainNN = NNTrain(dirTrain)\n",
    "        maskSize = []\n",
    "        for NN in range(len(listTrainNN)) :\n",
    "            #print(NN)\n",
    "            img1 = cv.imread(os.path.join(dirTrain,listTrainNN[NN]+'.tif'),-1)\n",
    "            img2 = cv.imread(os.path.join(dirTrain,listTrainNN[NN]+'_ref.tif'),-1)\n",
    "            img3 = cv.imread(os.path.join(dirTrain,listTrainNN[NN]+'_mask.tif'),-1)\n",
    "            maskSize.append(img3[img3>0.5].size)\n",
    "            #img1      = cv.GaussianBlur(img1,(3,3),0)\n",
    "            #img2      = cv.GaussianBlur(img2,(3,3),0)\n",
    "        print(img1.shape,img2.shape,img3.shape, dirTrain)\n",
    "\n",
    "        maskSize = np.array(maskSize)\n",
    "        print(len(maskSize), len(maskSize[maskSize==0]), maskSize.mean(), np.median(maskSize), maskSize.std(), maskSize.mean()/(390*390)*100.0, float(maskSize.max())/(390*390)*100.0)\n",
    "        plt.hist(maskSize,bins=150); plt.show()"
   ]
  },
  {
   "cell_type": "code",
   "execution_count": null,
   "metadata": {
    "collapsed": false,
    "deletable": true,
    "editable": true
   },
   "outputs": [],
   "source": []
  },
  {
   "cell_type": "code",
   "execution_count": 7,
   "metadata": {
    "collapsed": false,
    "deletable": true,
    "editable": true
   },
   "outputs": [
    {
     "name": "stdout",
     "output_type": "stream",
     "text": [
      "min= (10.974686533082986, 0, 0, 55, 55, 55, 55)\n"
     ]
    }
   ],
   "source": [
    "def diffPicts (img1, img2) :\n",
    "    diff = []\n",
    "    for cc in range(img1.shape[2]) :\n",
    "        ccc   = np.abs(img1[:,:,cc]-img2[:,:,cc])\n",
    "        cccL2 = np.sqrt(np.square(ccc).mean())\n",
    "        cccL1 = ccc.max()\n",
    "        diff.append([cccL1,cccL2,ccc])\n",
    "    diffL2 = np.zeros(ccc.shape)\n",
    "    for L1,L2,ccc in diff : diffL2 += np.square(ccc)\n",
    "    diffL2 = np.sqrt(diffL2)\n",
    "    return(diff,diffL2)\n",
    "\n",
    "def minDeltaRC (img1,img2, ranging=range(-5,6), printOK=False) :\n",
    "    r0,c0 = (img2.shape[0]-img1.shape[0])/2, (img2.shape[1]-img1.shape[1])/2\n",
    "    minL2 = [390*390*250.0,0,0]\n",
    "    for dr in ranging :\n",
    "        for dc in ranging :\n",
    "            imgX2 = img2[r0+dr:r0+img1.shape[0]+dr,c0+dc:c0+img1.shape[1]+dc,:]\n",
    "            diff, L2 = diffPicts(img1,imgX2)\n",
    "            if (minL2[0]>L2.mean()) : minL2 = (L2.mean(),dr,dc,r0+dr,c0+dc,r0,c0)\n",
    "            if printOK : print (dr,dc,'\\t',minL2[0],'\\t',L2.max(),L2.mean(),L2.std(),np.median(L2))\n",
    "    return(minL2)\n",
    "\n",
    "print('min=',minDeltaRC(img1,img2))"
   ]
  },
  {
   "cell_type": "code",
   "execution_count": null,
   "metadata": {
    "collapsed": false,
    "deletable": true,
    "editable": true
   },
   "outputs": [],
   "source": []
  },
  {
   "cell_type": "code",
   "execution_count": 8,
   "metadata": {
    "collapsed": false,
    "deletable": true,
    "editable": true
   },
   "outputs": [],
   "source": [
    "def pictNorm (img255, std=False) :\n",
    "    imgF32 = np.float32(img255) \n",
    "    for cc in range(img255.shape[2]) :\n",
    "        imgF32[:,:,cc] -= imgF32[:,:,cc].mean()\n",
    "        if std : imgF32[:,:,cc] /= imgF32[:,:,cc].std()**2\n",
    "        imgF32[:,:,cc] /= 127.0\n",
    "    return(imgF32)"
   ]
  },
  {
   "cell_type": "code",
   "execution_count": null,
   "metadata": {
    "collapsed": true,
    "deletable": true,
    "editable": true
   },
   "outputs": [],
   "source": []
  },
  {
   "cell_type": "code",
   "execution_count": 9,
   "metadata": {
    "collapsed": false,
    "deletable": true,
    "editable": true
   },
   "outputs": [],
   "source": [
    "def computeORB (img, debug=False) :\n",
    "    orb    = cv2.ORB_create();\n",
    "    kp     = orb.detect(img,None)\n",
    "    kp,des = orb.compute(img,kp)\n",
    "    if debug :\n",
    "        print (len(kp))\n",
    "        print (len(des),len(des[0]),\"\\n\",des[0],\"\\n\",des[1])\n",
    "    return kp,des\n",
    "\n",
    "def computeMatches (des1,des2) :\n",
    "    if True :\n",
    "        bf      = cv2.BFMatcher(cv2.NORM_HAMMING,crossCheck=True)\n",
    "        matches = bf.match(des1,des2);\n",
    "        #????matches = bf.knnMatch(des1,des2,k=1);\n",
    "    if False :\n",
    "        index_params = dict(algorithm = 6, #cv2.FLANN_INDEX_LSH,\n",
    "                            table_number = 6, \n",
    "                            key_size = 12,    \n",
    "                            multi_probe_level = 1)\n",
    "        search_params = dict(checks=100)\n",
    "        flann   = cv2.FlannBasedMatcher(index_params,search_params)\n",
    "        matchesI = flann.knnMatch(des1,des2,k=3);\n",
    "        matches  = [];\n",
    "        for mI in matchesI :\n",
    "            for m in mI : matches.append(m);\n",
    "    return matches    \n",
    "\n",
    "def drawMatches(img1,kp1,des1,img2,kp2,des2, show=False, showNN=20):\n",
    "    matches = computeMatches(des1,des2);\n",
    "    matches = sorted(matches,key=lambda x:x.distance)\n",
    "    if  show :\n",
    "        imgM    = img1.copy()\n",
    "        #imgM    = cv2.drawMatches(img1,kp1,img2,kp2,matches[:20],imgM,flags=4)\n",
    "        imgM    = cv2.drawMatches(img1,kp1,img2,kp2,matches[:showNN],imgM,flags=2) #4)\n",
    "        #imgM    = cv2.drawMatchesKnn(img1,kp1,img2,kp2,matches,imgM,flags=2) #4)\n",
    "        \n",
    "        plt.figure(figsize=(15,15)); plt.imshow(imgM), plt.show()\n",
    "    return(matches)\n"
   ]
  },
  {
   "cell_type": "code",
   "execution_count": null,
   "metadata": {
    "collapsed": true,
    "deletable": true,
    "editable": true
   },
   "outputs": [],
   "source": []
  },
  {
   "cell_type": "code",
   "execution_count": 10,
   "metadata": {
    "collapsed": false,
    "deletable": true,
    "editable": true
   },
   "outputs": [
    {
     "data": {
      "text/plain": [
       "1495"
      ]
     },
     "execution_count": 10,
     "metadata": {},
     "output_type": "execute_result"
    }
   ],
   "source": [
    "len(listTrainNN)"
   ]
  },
  {
   "cell_type": "code",
   "execution_count": null,
   "metadata": {
    "collapsed": false,
    "deletable": true,
    "editable": true
   },
   "outputs": [],
   "source": []
  },
  {
   "cell_type": "code",
   "execution_count": null,
   "metadata": {
    "collapsed": false,
    "deletable": true,
    "editable": true
   },
   "outputs": [],
   "source": []
  },
  {
   "cell_type": "code",
   "execution_count": 13,
   "metadata": {
    "collapsed": false,
    "deletable": true,
    "editable": true
   },
   "outputs": [
    {
     "name": "stdout",
     "output_type": "stream",
     "text": [
      "2018-02-15 01:48:13.259479\n",
      "2018-02-15 01:48:13.317090 (751, 416, 416, 3) (751, 416, 416, 3) (751, 416, 416, 1) ../Data/train/train/level-1\n",
      "2018-02-15 01:48:14.979299 0 0.126156769139 55 55 56 57\n",
      "2018-02-15 01:51:17.021204 100 0.107539980338 55 55 56 55\n",
      "2018-02-15 01:54:23.157235 200 0.112199069454 55 55 59 50\n",
      "2018-02-15 01:57:33.826924 300 0.0941469409104 55 55 55 50\n",
      "2018-02-15 02:00:25.293811 400 0.097671324921 55 55 46 63\n",
      "2018-02-15 02:02:54.809664 500 0.0944290245647 55 55 54 56\n",
      "2018-02-15 02:05:17.560839 600 0.134311490241 55 55 55 55\n",
      "2018-02-15 02:07:37.915710 700 0.216116584654 55 55 55 52\n",
      "2018-02-15 02:09:22.797033 Save: (751, 416, 416, 3) (751, 416, 416, 3) (751, 416, 416, 1) ../Data/train/train/level-1\n",
      "2018-02-15 02:09:23.224054 (1495, 416, 416, 3) (1495, 416, 416, 3) (1495, 416, 416, 1) ../Data/train/train/level-2\n",
      "2018-02-15 02:09:24.457794 0 0.157420539797 55 55 55 55\n",
      "2018-02-15 02:11:49.620565 100 0.174736018623 55 55 55 55\n",
      "2018-02-15 02:14:11.583380 200 0.0686089521011 55 55 55 56\n",
      "2018-02-15 02:16:32.258783 300 0.130070932664 55 55 54 54\n",
      "2018-02-15 02:18:52.784417 400 0.132770169943 55 55 55 54\n",
      "2018-02-15 02:21:14.298426 500 0.0452260865992 55 55 54 55\n",
      "2018-02-15 02:23:34.181439 600 0.130080277415 55 55 56 56\n",
      "2018-02-15 02:25:56.014748 700 0.133487372221 55 55 54 55\n",
      "2018-02-15 02:28:15.096627 800 0.427241769483 55 55 58 54\n",
      "2018-02-15 02:30:38.953784 900 0.0854420701662 55 55 55 55\n",
      "2018-02-15 02:33:00.631411 1000 0.10937215079 55 55 54 56\n",
      "2018-02-15 02:35:20.587080 1100 0.119577834226 55 55 55 56\n",
      "2018-02-15 02:37:41.193780 1200 0.184331033549 55 55 55 56\n",
      "2018-02-15 02:40:03.137428 1300 0.123126128264 55 55 55 56\n",
      "2018-02-15 02:42:24.929047 1400 0.245650730541 55 55 55 55\n",
      "2018-02-15 02:45:35.720898 Save: (1495, 416, 416, 3) (1495, 416, 416, 3) (1495, 416, 416, 1) ../Data/train/train/level-2\n",
      "2018-02-15 02:45:37.314127 (1873, 416, 416, 3) (1873, 416, 416, 3) (1873, 416, 416, 1) ../Data/train/train/level-3\n",
      "2018-02-15 02:45:38.859187 0 0.115453889374 55 55 55 57\n",
      "2018-02-15 02:48:05.709818 100 0.154584389063 55 55 55 54\n",
      "2018-02-15 02:50:24.012071 200 0.132996843077 55 55 54 55\n",
      "2018-02-15 02:52:49.844818 300 0.108983318268 55 55 55 54\n",
      "2018-02-15 02:55:12.208162 400 0.117090840586 55 55 55 54\n",
      "2018-02-15 02:57:37.266664 500 0.191434794357 55 55 55 55\n",
      "2018-02-15 02:59:29.841446 600 0.157973337667 55 55 55 55\n",
      "2018-02-15 03:01:14.640780 700 0.1053359965 55 55 55 56\n",
      "2018-02-15 03:02:56.885485 800 0.135669060208 55 55 55 54\n",
      "2018-02-15 03:04:39.526696 900 0.127891227507 55 55 55 54\n",
      "2018-02-15 03:06:21.453757 1000 0.0868510788415 55 55 55 55\n",
      "2018-02-15 03:08:02.965613 1100 0.0577294650451 55 55 55 55\n",
      "2018-02-15 03:09:44.002517 1200 0.268132912213 55 55 54 57\n",
      "2018-02-15 03:11:24.660955 1300 0.119158612297 55 55 55 56\n",
      "2018-02-15 03:13:04.743918 1400 0.0780372046065 55 55 55 54\n",
      "2018-02-15 03:14:47.812527 1500 0.124791777648 55 55 55 55\n",
      "2018-02-15 03:16:33.590472 1600 0.128490931109 55 55 56 55\n",
      "2018-02-15 03:18:17.139173 1700 0.281827306862 55 55 57 55\n",
      "2018-02-15 03:20:22.477831 1800 0.0966207615986 55 55 55 55\n",
      "2018-02-15 03:23:17.842665 Save: (1873, 416, 416, 3) (1873, 416, 416, 3) (1873, 416, 416, 1) ../Data/train/train/level-3\n",
      "2018-02-15 03:23:18.183000\n"
     ]
    }
   ],
   "source": [
    "print(datetime.datetime.now())\n",
    "\n",
    "for ii,dirTrain in enumerate((dirTrain1,dirTrain2,dirTrain3)) :\n",
    "    \n",
    "    #if ii==1 : break\n",
    "    \n",
    "    listTrainNN = NNTrain(dirTrain)\n",
    "\n",
    "    X1 = np.zeros((len(listTrainNN),)+shape2D+(3,),dtype=np.float32)\n",
    "    X2 = np.zeros((len(listTrainNN),)+shape2D+(3,),dtype=np.float32)\n",
    "    YY = np.zeros((len(listTrainNN),)+shape2D+(1,),dtype=np.float32)\n",
    "    print(datetime.datetime.now(),X1.shape, X2.shape,YY.shape,dirTrain)\n",
    "    \n",
    "    for NN in range(len(listTrainNN)) :\n",
    "        img1 = cv.imread(os.path.join(dirTrain,listTrainNN[NN]+'.tif'),-1)\n",
    "        img2 = cv.imread(os.path.join(dirTrain,listTrainNN[NN]+'_ref.tif'),-1)\n",
    "        img3 = cv.imread(os.path.join(dirTrain,listTrainNN[NN]+'_mask.tif'),-1); img3 = img3.reshape(img3.shape+(1,))\n",
    "\n",
    "\n",
    "\n",
    "        if 0 :\n",
    "            img1 = cv2.GaussianBlur(img1,(3,3),0)\n",
    "            img2 = cv2.GaussianBlur(img2,(3,3),0)\n",
    "\n",
    "        if 0 :\n",
    "            img1 = cv2.boxFilter(img1,-1,(5,5))\n",
    "            img2 = cv2.boxFilter(img2,-1,(5,5))\n",
    "\n",
    "\n",
    "        if 1 :\n",
    "            img1  = pictNorm(img1)\n",
    "            img2  = pictNorm(img2)\n",
    "\n",
    "        rcL2,_,_,r0,c0,ro,co  = minDeltaRC(img1,img2,ranging=range(-10,10))\n",
    "        #img2X = img2[r0:r0+img1.shape[0],c0:c0+img1.shape[1]]\n",
    "        img2X = np.array(img2[ro:(ro+img1.shape[0]),co:co+img1.shape[1]])\n",
    "        \n",
    "        #print(img2[ro:ro+img1.shape[0],co:co+img1.shape[1]].shape)\n",
    "        #print(img2.shape,img2X.shape,ro,ro+img1.shape[0],co,co+img1.shape[1])\n",
    "        \n",
    "        if NN%100==0 : print(datetime.datetime.now(),NN,rcL2,ro,co,r0,c0)\n",
    "\n",
    "        if 0 :\n",
    "            img1 = cv2.GaussianBlur(img1,(3,3),0)\n",
    "            img2X = cv2.GaussianBlur(img2X,(3,3),0)\n",
    "\n",
    "        if 0 :\n",
    "            img1  = cv2.boxFilter(img1, -1,(5,5))\n",
    "            img2X = cv2.boxFilter(img2X,-1,(5,5))\n",
    "\n",
    "        X1[NN,13:13+390,13:13+390,:], X2[NN,13:13+390,13:13+390,:], YY[NN,13:13+390,13:13+390,:] = img1, img2X, img3\n",
    "\n",
    "\n",
    "    if 1 :\n",
    "        np.save(os.path.join(dirForSave,'NN-'+str(ii)+'S.npy'),np.array(listTrainNN))\n",
    "        np.save(os.path.join(dirForSave,'X1-'+str(ii)+'S.npy'),X1)\n",
    "        np.save(os.path.join(dirForSave,'X2-'+str(ii)+'S.npy'),X2)\n",
    "        np.save(os.path.join(dirForSave,'YY-'+str(ii)+'S.npy'),YY)\n",
    "        print(datetime.datetime.now(),'Save:',X1.shape, X2.shape,YY.shape,dirTrain)\n",
    "        \n",
    "    del X1,X2,YY\n",
    "        \n",
    "print(datetime.datetime.now())"
   ]
  },
  {
   "cell_type": "code",
   "execution_count": null,
   "metadata": {
    "collapsed": true,
    "deletable": true,
    "editable": true
   },
   "outputs": [],
   "source": []
  },
  {
   "cell_type": "code",
   "execution_count": 26,
   "metadata": {
    "collapsed": false,
    "deletable": true,
    "editable": true
   },
   "outputs": [],
   "source": [
    "if 0 :\n",
    "    np.save(os.path.join(dirForSave,'X1.npy'),X1)\n",
    "    np.save(os.path.join(dirForSave,'X2.npy'),X2)\n",
    "    np.save(os.path.join(dirForSave,'YY.npy'),YY)\n",
    "    \n",
    "if 0 :\n",
    "    ii = 0\n",
    "    X1 = np.load(os.path.join(dirForSave,'X1-'+str(ii)+'.npy'))\n",
    "    X2 = np.load(os.path.join(dirForSave,'X2-'+str(ii)+'.npy'))\n",
    "    YY = np.load(os.path.join(dirForSave,'YY-'+str(ii)+'.npy'))\n",
    "    print(datetime.datetime.now(),'Load: ',ii,X1.shape, X2.shape,YY.shape)\n",
    "    \n",
    "if 0 :\n",
    "    iil = []\n",
    "    for ii in (0,1,2) :\n",
    "        YY = np.load(os.path.join(dirForSave,'YY-'+str(ii)+'.npy'))\n",
    "        iil.append(len(YY))\n",
    "    iis = int(np.array(iil).sum())\n",
    "    \n",
    "    X1 = np.zeros((iis,)+shape2D+(3,),dtype=np.float32)\n",
    "    X2 = np.zeros((iis,)+shape2D+(3,),dtype=np.float32)\n",
    "    YY = np.zeros((iis,)+shape2D+(1,),dtype=np.float32)\n",
    "    \n",
    "    iis = 0\n",
    "    \n",
    "    for ii in (0,1,2) :\n",
    "        \n",
    "        T1  = np.load(os.path.join(dirForSave,'X1-'+str(ii)+'.npy'))\n",
    "        T2  = np.load(os.path.join(dirForSave,'X2-'+str(ii)+'.npy'))\n",
    "        TT  = np.load(os.path.join(dirForSave,'YY-'+str(ii)+'.npy'))\n",
    "        \n",
    "        X1[iis:iis+len(TT)], X2[iis:iis+len(TT)], YY[iis:iis+len(TT)] = T1, T2, TT\n",
    "        \n",
    "        iis+= len(TT)\n",
    "        \n",
    "        del TT,T1, T2\n",
    "        \n",
    "    print(datetime.datetime.now(),'Load: ', X1.shape, X2.shape, YY.shape)\n",
    "    "
   ]
  },
  {
   "cell_type": "code",
   "execution_count": null,
   "metadata": {
    "collapsed": false,
    "deletable": true,
    "editable": true
   },
   "outputs": [],
   "source": []
  },
  {
   "cell_type": "code",
   "execution_count": 19,
   "metadata": {
    "collapsed": false,
    "deletable": true,
    "editable": true
   },
   "outputs": [
    {
     "name": "stdout",
     "output_type": "stream",
     "text": [
      "2018-02-15 03:47:08.891797\n",
      "2018-02-15 03:47:08.894567 (245, 416, 416, 3) (245, 416, 416, 3) ../Data/dev/dev/level-1\n",
      "2018-02-15 03:47:10.014160 0 0.105747467839 55 55 54 55\n",
      "2018-02-15 03:48:56.798208 100 0.0915711377855 55 55 56 56\n",
      "2018-02-15 03:52:13.362848 200 0.131872531383 55 55 62 55\n",
      "2018-02-15 03:53:11.170329 Save: (245, 416, 416, 3) (245, 416, 416, 3) ../Data/dev/dev/level-1\n",
      "2018-02-15 03:53:11.294400 (510, 416, 416, 3) (510, 416, 416, 3) ../Data/dev/dev/level-2\n",
      "2018-02-15 03:53:12.385335 0 0.126518101886 55 55 54 55\n",
      "2018-02-15 03:55:08.236691 100 0.120504920486 55 55 54 55\n",
      "2018-02-15 03:56:58.435156 200 0.196706252378 55 55 54 56\n",
      "2018-02-15 03:58:46.494024 300 0.173141766596 55 55 55 55\n",
      "2018-02-15 04:00:32.720194 400 0.100078645487 55 55 54 54\n",
      "2018-02-15 04:02:26.660457 500 0.0835766008211 55 55 55 55\n",
      "2018-02-15 04:02:48.195404 Save: (510, 416, 416, 3) (510, 416, 416, 3) ../Data/dev/dev/level-2\n",
      "2018-02-15 04:02:49.148648 (650, 416, 416, 3) (650, 416, 416, 3) ../Data/dev/dev/level-3\n",
      "2018-02-15 04:02:50.436852 0 0.122986860373 55 55 54 55\n",
      "2018-02-15 04:05:03.105877 100 0.166619038121 55 55 55 54\n",
      "2018-02-15 04:06:47.231015 200 0.115805316829 55 55 55 55\n",
      "2018-02-15 04:08:35.112132 300 0.0728617187158 55 55 55 54\n",
      "2018-02-15 04:10:28.393882 400 0.126264262786 55 55 55 54\n",
      "2018-02-15 04:12:21.580293 500 0.123456646659 55 55 57 54\n",
      "2018-02-15 04:14:15.329440 600 0.117212514794 55 55 56 54\n",
      "2018-02-15 04:15:28.682680 Save: (650, 416, 416, 3) (650, 416, 416, 3) ../Data/dev/dev/level-3\n",
      "2018-02-15 04:15:28.807173\n"
     ]
    }
   ],
   "source": [
    "# Build Devs arrays\n",
    "print(datetime.datetime.now())\n",
    "\n",
    "for ii,dirTrain in enumerate((os.path.join(dirDev,'level-1'),\n",
    "                              os.path.join(dirDev,'level-2'),\n",
    "                              os.path.join(dirDev,'level-3'))) :\n",
    "    \n",
    "    #if ii==1 : break\n",
    "    \n",
    "    listTrainNN = NNTrain(dirTrain,ends='_ref.tif')\n",
    "\n",
    "    X1 = np.zeros((len(listTrainNN),)+shape2D+(3,),dtype=np.float32)\n",
    "    X2 = np.zeros((len(listTrainNN),)+shape2D+(3,),dtype=np.float32)\n",
    "    ##YY = np.zeros((len(listTrainNN),)+shape2D+(1,),dtype=np.float32)\n",
    "    print(datetime.datetime.now(),X1.shape, X2.shape,dirTrain)\n",
    "    \n",
    "    for NN in range(len(listTrainNN)) :\n",
    "        img1 = cv.imread(os.path.join(dirTrain,listTrainNN[NN]+'.tif'),-1)\n",
    "        img2 = cv.imread(os.path.join(dirTrain,listTrainNN[NN]+'_ref.tif'),-1)\n",
    "\n",
    "\n",
    "\n",
    "        if 0 :\n",
    "            img1 = cv2.GaussianBlur(img1,(3,3),0)\n",
    "            img2 = cv2.GaussianBlur(img2,(3,3),0)\n",
    "\n",
    "        if 0 :\n",
    "            img1 = cv2.boxFilter(img1,-1,(5,5))\n",
    "            img2 = cv2.boxFilter(img2,-1,(5,5))\n",
    "\n",
    "\n",
    "        if 1 :\n",
    "            img1  = pictNorm(img1)\n",
    "            img2  = pictNorm(img2)\n",
    "\n",
    "        rcL2,_,_,r0,c0,ro,co  = minDeltaRC(img1,img2,ranging=range(-10,10))\n",
    "        #img2X = img2[r0:r0+img1.shape[0],c0:c0+img1.shape[1]]\n",
    "        img2X = np.array(img2[ro:(ro+img1.shape[0]),co:co+img1.shape[1]])\n",
    "        \n",
    "        #print(img2[ro:ro+img1.shape[0],co:co+img1.shape[1]].shape)\n",
    "        #print(img2.shape,img2X.shape,ro,ro+img1.shape[0],co,co+img1.shape[1])\n",
    "        \n",
    "        if NN%100==0 : print(datetime.datetime.now(),NN,rcL2,ro,co,r0,c0)\n",
    "\n",
    "        if 0 :\n",
    "            img1 = cv2.GaussianBlur(img1,(3,3),0)\n",
    "            img2X = cv2.GaussianBlur(img2X,(3,3),0)\n",
    "\n",
    "        if 0 :\n",
    "            img1  = cv2.boxFilter(img1, -1,(5,5))\n",
    "            img2X = cv2.boxFilter(img2X,-1,(5,5))\n",
    "\n",
    "        X1[NN,13:13+390,13:13+390,:], X2[NN,13:13+390,13:13+390,:] = img1, img2X\n",
    "\n",
    "\n",
    "    if 1 :\n",
    "        np.save(os.path.join(dirForSave,'dev-'+str(ii)+'-NN-S.npy'),np.array(listTrainNN))\n",
    "        np.save(os.path.join(dirForSave,'dev-'+str(ii)+'-X1-S.npy'),X1)\n",
    "        np.save(os.path.join(dirForSave,'dev-'+str(ii)+'-X2-S.npy'),X2)\n",
    "        print(datetime.datetime.now(),'Save:',X1.shape, X2.shape,dirTrain)\n",
    "        \n",
    "    del X1,X2\n",
    "        \n",
    "print(datetime.datetime.now())"
   ]
  }
 ],
 "metadata": {
  "kernelspec": {
   "display_name": "Python 2",
   "language": "python",
   "name": "python2"
  },
  "language_info": {
   "codemirror_mode": {
    "name": "ipython",
    "version": 2
   },
   "file_extension": ".py",
   "mimetype": "text/x-python",
   "name": "python",
   "nbconvert_exporter": "python",
   "pygments_lexer": "ipython2",
   "version": "2.7.13"
  }
 },
 "nbformat": 4,
 "nbformat_minor": 2
}
