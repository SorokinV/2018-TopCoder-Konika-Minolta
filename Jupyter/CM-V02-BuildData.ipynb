{
 "cells": [
  {
   "cell_type": "code",
   "execution_count": 1,
   "metadata": {
    "collapsed": true,
    "deletable": true,
    "editable": true
   },
   "outputs": [],
   "source": [
    "from __future__ import print_function\n",
    "import sys,os,datetime\n",
    "import cv2 as cv\n",
    "import cv2 as cv2\n",
    "import numpy as np\n",
    "import pandas as pd\n",
    "import matplotlib.pyplot as plt\n",
    "from sklearn.metrics import fbeta_score\n",
    "import sklearn.metrics as skm\n",
    "import csv"
   ]
  },
  {
   "cell_type": "code",
   "execution_count": 2,
   "metadata": {
    "collapsed": false,
    "deletable": true,
    "editable": true
   },
   "outputs": [
    {
     "name": "stdout",
     "output_type": "stream",
     "text": [
      "openCV 3.2.0\n",
      "numpy 1.13.3\n"
     ]
    }
   ],
   "source": [
    "print('openCV',cv.__version__)\n",
    "print('numpy',np.__version__)"
   ]
  },
  {
   "cell_type": "code",
   "execution_count": null,
   "metadata": {
    "collapsed": true,
    "deletable": true,
    "editable": true
   },
   "outputs": [],
   "source": []
  },
  {
   "cell_type": "code",
   "execution_count": 19,
   "metadata": {
    "collapsed": true,
    "deletable": true,
    "editable": true
   },
   "outputs": [],
   "source": [
    "dirTrain1 = '../Data/train/train/level-1'\n",
    "dirTrain2 = '../Data/train/train/level-2'\n",
    "dirTrain3 = '../Data/train/train/level-3'\n",
    "dirTrain  = dirTrain2\n",
    "dirDev    = '../Data/dev/dev'\n",
    "dirTest   = '../Data/flat_test/flat_test'\n",
    "dirForSave = '../Work'"
   ]
  },
  {
   "cell_type": "code",
   "execution_count": 4,
   "metadata": {
    "collapsed": true,
    "deletable": true,
    "editable": true
   },
   "outputs": [],
   "source": [
    "shape2D = (416,416)"
   ]
  },
  {
   "cell_type": "code",
   "execution_count": 5,
   "metadata": {
    "collapsed": false,
    "deletable": true,
    "editable": true
   },
   "outputs": [
    {
     "data": {
      "text/plain": [
       "(1495,\n",
       " ['1003',\n",
       "  '1009',\n",
       "  '100',\n",
       "  '1012',\n",
       "  '1018',\n",
       "  '1021',\n",
       "  '984',\n",
       "  '994',\n",
       "  '995',\n",
       "  '997',\n",
       "  '9',\n",
       "  '952',\n",
       "  '955',\n",
       "  '956',\n",
       "  '959'])"
      ]
     },
     "execution_count": 5,
     "metadata": {},
     "output_type": "execute_result"
    }
   ],
   "source": [
    "def NNTrain(dirTrain, ends='.txt') :\n",
    "    listTrain= os.listdir(dirTrain); len(listTrain); listTrain[:12]\n",
    "    listTrainNN = []\n",
    "    for ff in listTrain :\n",
    "        if ff.lower().endswith(ends) : listTrainNN.append(ff.split('_')[0])\n",
    "    return(listTrainNN)\n",
    "listTrainNN = NNTrain(dirTrain)\n",
    "len(listTrainNN), listTrainNN[:15]"
   ]
  },
  {
   "cell_type": "code",
   "execution_count": null,
   "metadata": {
    "collapsed": true,
    "deletable": true,
    "editable": true
   },
   "outputs": [],
   "source": []
  },
  {
   "cell_type": "code",
   "execution_count": 7,
   "metadata": {
    "collapsed": false,
    "deletable": true,
    "editable": true
   },
   "outputs": [],
   "source": [
    "# Build statistics on masks\n",
    "img1 = cv.imread(os.path.join(dirTrain,listTrainNN[0]+'.tif'),-1)\n",
    "img2 = cv.imread(os.path.join(dirTrain,listTrainNN[0]+'_ref.tif'),-1)\n",
    "img3 = cv.imread(os.path.join(dirTrain,listTrainNN[0]+'_mask.tif'),-1)\n",
    "if 0 :\n",
    "    for dirTrain in (dirTrain1,dirTrain2,dirTrain3) :\n",
    "        listTrainNN = NNTrain(dirTrain)\n",
    "        maskSize = []\n",
    "        for NN in range(len(listTrainNN)) :\n",
    "            #print(NN)\n",
    "            img1 = cv.imread(os.path.join(dirTrain,listTrainNN[NN]+'.tif'),-1)\n",
    "            img2 = cv.imread(os.path.join(dirTrain,listTrainNN[NN]+'_ref.tif'),-1)\n",
    "            img3 = cv.imread(os.path.join(dirTrain,listTrainNN[NN]+'_mask.tif'),-1)\n",
    "            maskSize.append(img3[img3>0.5].size)\n",
    "            #img1      = cv.GaussianBlur(img1,(3,3),0)\n",
    "            #img2      = cv.GaussianBlur(img2,(3,3),0)\n",
    "        print(img1.shape,img2.shape,img3.shape, dirTrain)\n",
    "\n",
    "        maskSize = np.array(maskSize)\n",
    "        print(len(maskSize), len(maskSize[maskSize==0]), maskSize.mean(), np.median(maskSize), maskSize.std(), maskSize.mean()/(390*390)*100.0, float(maskSize.max())/(390*390)*100.0)\n",
    "        plt.hist(maskSize,bins=150); plt.show()"
   ]
  },
  {
   "cell_type": "code",
   "execution_count": null,
   "metadata": {
    "collapsed": false,
    "deletable": true,
    "editable": true
   },
   "outputs": [],
   "source": []
  },
  {
   "cell_type": "code",
   "execution_count": 8,
   "metadata": {
    "collapsed": false,
    "deletable": true,
    "editable": true
   },
   "outputs": [
    {
     "name": "stdout",
     "output_type": "stream",
     "text": [
      "min= (10.974686533082986, 0, 0, 55, 55, 55, 55)\n"
     ]
    }
   ],
   "source": [
    "def diffPicts (img1, img2) :\n",
    "    diff = []\n",
    "    for cc in range(img1.shape[2]) :\n",
    "        ccc   = np.abs(img1[:,:,cc]-img2[:,:,cc])\n",
    "        cccL2 = np.sqrt(np.square(ccc).mean())\n",
    "        cccL1 = ccc.max()\n",
    "        diff.append([cccL1,cccL2,ccc])\n",
    "    diffL2 = np.zeros(ccc.shape)\n",
    "    for L1,L2,ccc in diff : diffL2 += np.square(ccc)\n",
    "    diffL2 = np.sqrt(diffL2)\n",
    "    return(diff,diffL2)\n",
    "\n",
    "def minDeltaRC (img1,img2, ranging=range(-5,6), printOK=False) :\n",
    "    r0,c0 = (img2.shape[0]-img1.shape[0])/2, (img2.shape[1]-img1.shape[1])/2\n",
    "    minL2 = [390*390*250.0,0,0]\n",
    "    for dr in ranging :\n",
    "        for dc in ranging :\n",
    "            imgX2 = img2[r0+dr:r0+img1.shape[0]+dr,c0+dc:c0+img1.shape[1]+dc,:]\n",
    "            diff, L2 = diffPicts(img1,imgX2)\n",
    "            if (minL2[0]>L2.mean()) : minL2 = (L2.mean(),dr,dc,r0+dr,c0+dc,r0,c0)\n",
    "            if printOK : print (dr,dc,'\\t',minL2[0],'\\t',L2.max(),L2.mean(),L2.std(),np.median(L2))\n",
    "    return(minL2)\n",
    "\n",
    "print('min=',minDeltaRC(img1,img2))"
   ]
  },
  {
   "cell_type": "code",
   "execution_count": null,
   "metadata": {
    "collapsed": false,
    "deletable": true,
    "editable": true
   },
   "outputs": [],
   "source": []
  },
  {
   "cell_type": "code",
   "execution_count": 9,
   "metadata": {
    "collapsed": false,
    "deletable": true,
    "editable": true
   },
   "outputs": [],
   "source": [
    "def pictNorm (img255, std=False) :\n",
    "    imgF32 = np.float32(img255) \n",
    "    for cc in range(img255.shape[2]) :\n",
    "        imgF32[:,:,cc] -= imgF32[:,:,cc].mean()\n",
    "        if std : imgF32[:,:,cc] /= imgF32[:,:,cc].std()**2\n",
    "        imgF32[:,:,cc] /= 127.0\n",
    "    return(imgF32)"
   ]
  },
  {
   "cell_type": "code",
   "execution_count": null,
   "metadata": {
    "collapsed": true,
    "deletable": true,
    "editable": true
   },
   "outputs": [],
   "source": []
  },
  {
   "cell_type": "code",
   "execution_count": 10,
   "metadata": {
    "collapsed": false,
    "deletable": true,
    "editable": true
   },
   "outputs": [],
   "source": [
    "def computeORB (img, debug=False) :\n",
    "    orb    = cv2.ORB_create();\n",
    "    kp     = orb.detect(img,None)\n",
    "    kp,des = orb.compute(img,kp)\n",
    "    if debug :\n",
    "        print (len(kp))\n",
    "        print (len(des),len(des[0]),\"\\n\",des[0],\"\\n\",des[1])\n",
    "    return kp,des\n",
    "\n",
    "def computeMatches (des1,des2) :\n",
    "    if True :\n",
    "        bf      = cv2.BFMatcher(cv2.NORM_HAMMING,crossCheck=True)\n",
    "        matches = bf.match(des1,des2);\n",
    "        #????matches = bf.knnMatch(des1,des2,k=1);\n",
    "    if False :\n",
    "        index_params = dict(algorithm = 6, #cv2.FLANN_INDEX_LSH,\n",
    "                            table_number = 6, \n",
    "                            key_size = 12,    \n",
    "                            multi_probe_level = 1)\n",
    "        search_params = dict(checks=100)\n",
    "        flann   = cv2.FlannBasedMatcher(index_params,search_params)\n",
    "        matchesI = flann.knnMatch(des1,des2,k=3);\n",
    "        matches  = [];\n",
    "        for mI in matchesI :\n",
    "            for m in mI : matches.append(m);\n",
    "    return matches    \n",
    "\n",
    "def drawMatches(img1,kp1,des1,img2,kp2,des2, show=False, showNN=20):\n",
    "    matches = computeMatches(des1,des2);\n",
    "    matches = sorted(matches,key=lambda x:x.distance)\n",
    "    if  show :\n",
    "        imgM    = img1.copy()\n",
    "        #imgM    = cv2.drawMatches(img1,kp1,img2,kp2,matches[:20],imgM,flags=4)\n",
    "        imgM    = cv2.drawMatches(img1,kp1,img2,kp2,matches[:showNN],imgM,flags=2) #4)\n",
    "        #imgM    = cv2.drawMatchesKnn(img1,kp1,img2,kp2,matches,imgM,flags=2) #4)\n",
    "        \n",
    "        plt.figure(figsize=(15,15)); plt.imshow(imgM), plt.show()\n",
    "    return(matches)\n"
   ]
  },
  {
   "cell_type": "code",
   "execution_count": null,
   "metadata": {
    "collapsed": true,
    "deletable": true,
    "editable": true
   },
   "outputs": [],
   "source": []
  },
  {
   "cell_type": "code",
   "execution_count": 11,
   "metadata": {
    "collapsed": false,
    "deletable": true,
    "editable": true
   },
   "outputs": [
    {
     "data": {
      "text/plain": [
       "1495"
      ]
     },
     "execution_count": 11,
     "metadata": {},
     "output_type": "execute_result"
    }
   ],
   "source": [
    "len(listTrainNN)"
   ]
  },
  {
   "cell_type": "code",
   "execution_count": null,
   "metadata": {
    "collapsed": false,
    "deletable": true,
    "editable": true
   },
   "outputs": [],
   "source": []
  },
  {
   "cell_type": "code",
   "execution_count": null,
   "metadata": {
    "collapsed": false,
    "deletable": true,
    "editable": true
   },
   "outputs": [],
   "source": []
  },
  {
   "cell_type": "code",
   "execution_count": null,
   "metadata": {
    "collapsed": false,
    "deletable": true,
    "editable": true
   },
   "outputs": [
    {
     "name": "stdout",
     "output_type": "stream",
     "text": [
      "2018-02-15 18:19:39.534435\n",
      "2018-02-15 18:19:39.549933 (751, 416, 416, 3) (751, 416, 416, 3) (751, 416, 416, 1) ../Data/train/train/level-1\n",
      "2018-02-15 18:19:40.504342 0 0.0658074848063 55 55 55 56\n",
      "2018-02-15 18:21:10.458308 100 0.0567938326306 55 55 56 56\n",
      "2018-02-15 18:22:43.908146 200 0.0676420703097 55 55 56 53\n",
      "2018-02-15 18:24:16.749213 300 0.0566413581779 55 55 54 50\n",
      "2018-02-15 18:25:46.733279 400 0.0549176484386 55 55 46 64\n",
      "2018-02-15 18:27:18.568629 500 0.0510736484509 55 55 54 56\n",
      "2018-02-15 18:28:56.069417 600 0.0628774579128 55 55 55 55\n",
      "2018-02-15 18:30:23.589734 700 0.205298348405 55 55 55 52\n",
      "2018-02-15 18:31:51.924044 Save: (751, 416, 416, 3) (751, 416, 416, 3) (751, 416, 416, 1) ../Data/train/train/level-1\n",
      "2018-02-15 18:31:52.061104 (1495, 416, 416, 3) (1495, 416, 416, 3) (1495, 416, 416, 1) ../Data/train/train/level-2\n",
      "2018-02-15 18:31:53.016554 0 0.135193295812 55 55 55 55\n",
      "2018-02-15 18:33:37.962201 100 0.110332033177 55 55 55 55\n",
      "2018-02-15 18:35:25.166285 200 0.0446885574285 55 55 55 55\n",
      "2018-02-15 18:37:03.984004 300 0.061369903808 55 55 55 54\n",
      "2018-02-15 18:38:45.574130 400 0.0946703410401 55 55 55 55\n",
      "2018-02-15 18:40:24.668557 500 0.0291076949691 55 55 54 55\n",
      "2018-02-15 18:42:03.835040 600 0.0578958243122 55 55 55 55\n",
      "2018-02-15 18:43:35.427146 700 0.110131368491 55 55 54 55\n",
      "2018-02-15 18:45:11.745724 800 0.392128335983 55 55 55 51\n",
      "2018-02-15 18:46:53.117213 900 0.0598243246842 55 55 55 55\n",
      "2018-02-15 18:49:58.364500 1000 0.0815200264123 55 55 54 56\n",
      "2018-02-15 19:06:11.737491 1300 0.0955084259702 55 55 55 55\n",
      "2018-02-15 19:08:09.513020 1400 0.236243242024 55 55 55 55\n",
      "2018-02-15 19:10:49.926631 Save: (1495, 416, 416, 3) (1495, 416, 416, 3) (1495, 416, 416, 1) ../Data/train/train/level-2\n",
      "2018-02-15 19:10:53.261725 (1873, 416, 416, 3) (1873, 416, 416, 3) (1873, 416, 416, 1) ../Data/train/train/level-3\n",
      "2018-02-15 19:10:55.677205 0 0.0598608887135 55 55 54 56\n",
      "2018-02-15 19:12:52.913532 100 0.134486529134 55 55 54 55\n",
      "2018-02-15 19:14:45.988192 200 0.0878773285325 55 55 54 55\n",
      "2018-02-15 19:16:53.595680 300 0.0675147180248 55 55 55 55\n",
      "2018-02-15 19:18:57.060992 400 0.0942449340201 55 55 55 55\n",
      "2018-02-15 19:21:03.636480 500 0.152497451952 55 55 55 55\n",
      "2018-02-15 19:23:29.346014 600 0.101988462312 55 55 55 55\n",
      "2018-02-15 19:26:05.740563 700 0.0629620185998 55 55 54 56\n",
      "2018-02-15 19:28:22.886582 800 0.0939286680915 55 55 55 55\n",
      "2018-02-15 19:30:31.789304 900 0.102856678143 55 55 55 55\n",
      "2018-02-15 19:32:31.380473 1000 0.0555911989257 55 55 55 55\n",
      "2018-02-15 19:34:23.276173 1100 0.0365642435006 55 55 56 55\n",
      "2018-02-15 19:36:13.892727 1200 0.260966282542 55 55 54 56\n",
      "2018-02-15 19:38:06.729835 1300 0.0852100445995 55 55 55 55\n",
      "2018-02-15 19:39:55.861274 1400 0.0580791299991 55 55 55 54\n",
      "2018-02-15 19:41:46.147474 1500 0.0816246567998 55 55 55 55\n",
      "2018-02-15 19:43:58.347026 1600 0.0828377482355 55 55 56 55\n",
      "2018-02-15 19:45:50.766473 1700 0.26357173239 55 55 56 54\n",
      "2018-02-15 19:47:45.500232 1800 0.0421884207797 55 55 55 56\n",
      "2018-02-15 19:53:23.771281 Save: (1873, 416, 416, 3) (1873, 416, 416, 3) (1873, 416, 416, 1) ../Data/train/train/level-3\n",
      "2018-02-15 19:53:25.785640\n"
     ]
    }
   ],
   "source": [
    "print(datetime.datetime.now())\n",
    "\n",
    "for ii,dirTrain in enumerate((dirTrain1,dirTrain2,dirTrain3)) :\n",
    "    \n",
    "    #if ii==1 : break\n",
    "    \n",
    "    listTrainNN = NNTrain(dirTrain)\n",
    "\n",
    "    X1 = np.zeros((len(listTrainNN),)+shape2D+(3,),dtype=np.float32)\n",
    "    X2 = np.zeros((len(listTrainNN),)+shape2D+(3,),dtype=np.float32)\n",
    "    YY = np.zeros((len(listTrainNN),)+shape2D+(1,),dtype=np.float32)\n",
    "    print(datetime.datetime.now(),X1.shape, X2.shape,YY.shape,dirTrain)\n",
    "    \n",
    "    for NN in range(len(listTrainNN)) :\n",
    "        img1 = cv.imread(os.path.join(dirTrain,listTrainNN[NN]+'.tif'),-1)\n",
    "        img2 = cv.imread(os.path.join(dirTrain,listTrainNN[NN]+'_ref.tif'),-1)\n",
    "        img3 = cv.imread(os.path.join(dirTrain,listTrainNN[NN]+'_mask.tif'),-1); img3 = img3.reshape(img3.shape+(1,))\n",
    "\n",
    "\n",
    "\n",
    "        if 1 :\n",
    "            img1 = cv2.GaussianBlur(img1,(3,3),0)\n",
    "            img2 = cv2.GaussianBlur(img2,(3,3),0)\n",
    "\n",
    "        if 0 :\n",
    "            img1 = cv2.boxFilter(img1,-1,(5,5))\n",
    "            img2 = cv2.boxFilter(img2,-1,(5,5))\n",
    "\n",
    "\n",
    "        if 1 :\n",
    "            img1  = pictNorm(img1)\n",
    "            img2  = pictNorm(img2)\n",
    "\n",
    "        rcL2,_,_,r0,c0,ro,co  = minDeltaRC(img1,img2,ranging=range(-10,10))\n",
    "        img2X = img2[r0:r0+img1.shape[0],c0:c0+img1.shape[1]]\n",
    "        ##########img2X = np.array(img2[ro:(ro+img1.shape[0]),co:co+img1.shape[1]])\n",
    "        \n",
    "        #print(img2[ro:ro+img1.shape[0],co:co+img1.shape[1]].shape)\n",
    "        #print(img2.shape,img2X.shape,ro,ro+img1.shape[0],co,co+img1.shape[1])\n",
    "        \n",
    "        if NN%100==0 : print(datetime.datetime.now(),NN,rcL2,ro,co,r0,c0)\n",
    "\n",
    "        if 0 :\n",
    "            img1 = cv2.GaussianBlur(img1,(3,3),0)\n",
    "            img2X = cv2.GaussianBlur(img2X,(3,3),0)\n",
    "\n",
    "        if 1 :\n",
    "            img1  = cv2.boxFilter(img1, -1,(5,5))\n",
    "            img2X = cv2.boxFilter(img2X,-1,(5,5))\n",
    "\n",
    "        X1[NN,13:13+390,13:13+390,:], X2[NN,13:13+390,13:13+390,:], YY[NN,13:13+390,13:13+390,:] = img1, img2X, img3\n",
    "\n",
    "\n",
    "    if 1 :\n",
    "        np.save(os.path.join(dirForSave,'train-'+str(ii)+'-NN-101D01.npy'),np.array(listTrainNN))\n",
    "        np.save(os.path.join(dirForSave,'train-'+str(ii)+'-X1-101D01.npy'),X1)\n",
    "        np.save(os.path.join(dirForSave,'train-'+str(ii)+'-X2-101D01.npy'),X2)\n",
    "        np.save(os.path.join(dirForSave,'train-'+str(ii)+'-YY-101D01.npy'),YY)\n",
    "        print(datetime.datetime.now(),'Save:',X1.shape, X2.shape,YY.shape,dirTrain)\n",
    "        \n",
    "    del X1,X2,YY\n",
    "        \n",
    "print(datetime.datetime.now())"
   ]
  },
  {
   "cell_type": "code",
   "execution_count": null,
   "metadata": {
    "collapsed": true,
    "deletable": true,
    "editable": true
   },
   "outputs": [],
   "source": []
  },
  {
   "cell_type": "code",
   "execution_count": 26,
   "metadata": {
    "collapsed": false,
    "deletable": true,
    "editable": true
   },
   "outputs": [],
   "source": [
    "if 0 :\n",
    "    np.save(os.path.join(dirForSave,'X1.npy'),X1)\n",
    "    np.save(os.path.join(dirForSave,'X2.npy'),X2)\n",
    "    np.save(os.path.join(dirForSave,'YY.npy'),YY)\n",
    "    \n",
    "if 0 :\n",
    "    ii = 0\n",
    "    X1 = np.load(os.path.join(dirForSave,'X1-'+str(ii)+'.npy'))\n",
    "    X2 = np.load(os.path.join(dirForSave,'X2-'+str(ii)+'.npy'))\n",
    "    YY = np.load(os.path.join(dirForSave,'YY-'+str(ii)+'.npy'))\n",
    "    print(datetime.datetime.now(),'Load: ',ii,X1.shape, X2.shape,YY.shape)\n",
    "    \n",
    "if 0 :\n",
    "    iil = []\n",
    "    for ii in (0,1,2) :\n",
    "        YY = np.load(os.path.join(dirForSave,'YY-'+str(ii)+'.npy'))\n",
    "        iil.append(len(YY))\n",
    "    iis = int(np.array(iil).sum())\n",
    "    \n",
    "    X1 = np.zeros((iis,)+shape2D+(3,),dtype=np.float32)\n",
    "    X2 = np.zeros((iis,)+shape2D+(3,),dtype=np.float32)\n",
    "    YY = np.zeros((iis,)+shape2D+(1,),dtype=np.float32)\n",
    "    \n",
    "    iis = 0\n",
    "    \n",
    "    for ii in (0,1,2) :\n",
    "        \n",
    "        T1  = np.load(os.path.join(dirForSave,'X1-'+str(ii)+'.npy'))\n",
    "        T2  = np.load(os.path.join(dirForSave,'X2-'+str(ii)+'.npy'))\n",
    "        TT  = np.load(os.path.join(dirForSave,'YY-'+str(ii)+'.npy'))\n",
    "        \n",
    "        X1[iis:iis+len(TT)], X2[iis:iis+len(TT)], YY[iis:iis+len(TT)] = T1, T2, TT\n",
    "        \n",
    "        iis+= len(TT)\n",
    "        \n",
    "        del TT,T1, T2\n",
    "        \n",
    "    print(datetime.datetime.now(),'Load: ', X1.shape, X2.shape, YY.shape)\n",
    "    "
   ]
  },
  {
   "cell_type": "code",
   "execution_count": null,
   "metadata": {
    "collapsed": false,
    "deletable": true,
    "editable": true
   },
   "outputs": [],
   "source": []
  },
  {
   "cell_type": "code",
   "execution_count": null,
   "metadata": {
    "collapsed": false,
    "deletable": true,
    "editable": true
   },
   "outputs": [
    {
     "name": "stdout",
     "output_type": "stream",
     "text": [
      "2018-02-15 19:53:26.709370\n",
      "2018-02-15 19:53:30.418989 (245, 416, 416, 3) (245, 416, 416, 3) ../Data/dev/dev/level-1\n",
      "2018-02-15 19:53:36.272750 0 0.0960723423375 55 55 54 55\n",
      "2018-02-15 19:55:29.668277 100 0.0592844895718 55 55 56 55\n",
      "2018-02-15 19:57:18.553652 200 0.0870139376873 55 55 63 51\n",
      "2018-02-15 19:58:12.015671 Save: (245, 416, 416, 3) (245, 416, 416, 3) ../Data/dev/dev/level-1\n",
      "2018-02-15 19:58:12.929642 (510, 416, 416, 3) (510, 416, 416, 3) ../Data/dev/dev/level-2\n",
      "2018-02-15 19:58:14.276635 0 0.0694949326184 55 55 54 55\n",
      "2018-02-15 20:00:06.041294 100 0.105673297447 55 55 54 55\n",
      "2018-02-15 20:02:02.677059 200 0.129993490945 55 55 54 55\n",
      "2018-02-15 20:09:15.298235 300 0.118333986122 55 55 56 56\n",
      "2018-02-15 20:13:46.070069 400 0.060067258166 55 55 54 55\n",
      "2018-02-15 20:18:40.976057 500 0.0589160094272 55 55 55 55\n",
      "2018-02-15 20:19:39.830261 Save: (510, 416, 416, 3) (510, 416, 416, 3) ../Data/dev/dev/level-2\n",
      "2018-02-15 20:19:42.842772 (650, 416, 416, 3) (650, 416, 416, 3) ../Data/dev/dev/level-3\n",
      "2018-02-15 20:19:47.769216 0 0.0896331329519 55 55 55 54\n",
      "2018-02-15 20:21:43.607591 100 0.134417787596 55 55 56 55\n",
      "2018-02-15 20:23:32.834248 200 0.103814277795 55 55 55 55\n",
      "2018-02-15 20:25:21.959129 300 0.0426553143729 55 55 55 55\n",
      "2018-02-15 20:27:14.349449 400 0.0675859097873 55 55 55 55\n",
      "2018-02-15 20:29:03.703635 500 0.0815045751258 55 55 56 55\n",
      "2018-02-15 20:30:48.199105 600 0.092368983403 55 55 55 54\n",
      "2018-02-15 20:32:38.127085 Save: (650, 416, 416, 3) (650, 416, 416, 3) ../Data/dev/dev/level-3\n",
      "2018-02-15 20:32:43.320646\n"
     ]
    }
   ],
   "source": [
    "# Build Devs arrays\n",
    "print(datetime.datetime.now())\n",
    "\n",
    "for ii,dirTrain in enumerate((os.path.join(dirDev,'level-1'),\n",
    "                              os.path.join(dirDev,'level-2'),\n",
    "                              os.path.join(dirDev,'level-3'))) :\n",
    "    \n",
    "    #if ii==1 : break\n",
    "    \n",
    "    listTrainNN = NNTrain(dirTrain,ends='_ref.tif')\n",
    "\n",
    "    X1 = np.zeros((len(listTrainNN),)+shape2D+(3,),dtype=np.float32)\n",
    "    X2 = np.zeros((len(listTrainNN),)+shape2D+(3,),dtype=np.float32)\n",
    "    ##YY = np.zeros((len(listTrainNN),)+shape2D+(1,),dtype=np.float32)\n",
    "    print(datetime.datetime.now(),X1.shape, X2.shape,dirTrain)\n",
    "    \n",
    "    for NN in range(len(listTrainNN)) :\n",
    "        img1 = cv.imread(os.path.join(dirTrain,listTrainNN[NN]+'.tif'),-1)\n",
    "        img2 = cv.imread(os.path.join(dirTrain,listTrainNN[NN]+'_ref.tif'),-1)\n",
    "\n",
    "\n",
    "\n",
    "        if 1 :\n",
    "            img1 = cv2.GaussianBlur(img1,(3,3),0)\n",
    "            img2 = cv2.GaussianBlur(img2,(3,3),0)\n",
    "\n",
    "        if 0 :\n",
    "            img1 = cv2.boxFilter(img1,-1,(5,5))\n",
    "            img2 = cv2.boxFilter(img2,-1,(5,5))\n",
    "\n",
    "\n",
    "        if 1 :\n",
    "            img1  = pictNorm(img1)\n",
    "            img2  = pictNorm(img2)\n",
    "\n",
    "        rcL2,_,_,r0,c0,ro,co  = minDeltaRC(img1,img2,ranging=range(-10,10))\n",
    "        img2X = img2[r0:r0+img1.shape[0],c0:c0+img1.shape[1]]\n",
    "        #####################img2X = np.array(img2[ro:(ro+img1.shape[0]),co:co+img1.shape[1]])\n",
    "        \n",
    "        #print(img2[ro:ro+img1.shape[0],co:co+img1.shape[1]].shape)\n",
    "        #print(img2.shape,img2X.shape,ro,ro+img1.shape[0],co,co+img1.shape[1])\n",
    "        \n",
    "        if NN%100==0 : print(datetime.datetime.now(),NN,rcL2,ro,co,r0,c0)\n",
    "\n",
    "        if 0 :\n",
    "            img1 = cv2.GaussianBlur(img1,(3,3),0)\n",
    "            img2X = cv2.GaussianBlur(img2X,(3,3),0)\n",
    "\n",
    "        if 1 :\n",
    "            img1  = cv2.boxFilter(img1, -1,(5,5))\n",
    "            img2X = cv2.boxFilter(img2X,-1,(5,5))\n",
    "\n",
    "        X1[NN,13:13+390,13:13+390,:], X2[NN,13:13+390,13:13+390,:] = img1, img2X\n",
    "\n",
    "\n",
    "    if 1 :\n",
    "        np.save(os.path.join(dirForSave,'dev-'+str(ii)+'-NN-101D01.npy'),np.array(listTrainNN))\n",
    "        np.save(os.path.join(dirForSave,'dev-'+str(ii)+'-X1-101D01.npy'),X1)\n",
    "        np.save(os.path.join(dirForSave,'dev-'+str(ii)+'-X2-101D01.npy'),X2)\n",
    "        print(datetime.datetime.now(),'Save:',X1.shape, X2.shape,dirTrain)\n",
    "        \n",
    "    del X1,X2\n",
    "        \n",
    "print(datetime.datetime.now())"
   ]
  },
  {
   "cell_type": "code",
   "execution_count": null,
   "metadata": {
    "collapsed": true,
    "deletable": true,
    "editable": true
   },
   "outputs": [],
   "source": []
  },
  {
   "cell_type": "code",
   "execution_count": null,
   "metadata": {
    "collapsed": true,
    "deletable": true,
    "editable": true
   },
   "outputs": [],
   "source": []
  },
  {
   "cell_type": "code",
   "execution_count": null,
   "metadata": {
    "collapsed": true,
    "deletable": true,
    "editable": true
   },
   "outputs": [],
   "source": [
    "# Train build 3+3=6"
   ]
  },
  {
   "cell_type": "code",
   "execution_count": 20,
   "metadata": {
    "collapsed": false,
    "deletable": true,
    "editable": true
   },
   "outputs": [
    {
     "name": "stdout",
     "output_type": "stream",
     "text": [
      "2018-02-21 02:40:28.706383 For:  \n",
      "2018-02-21 02:45:58.944787 Save:  (4119, 416, 416, 6) (4119, 416, 416, 1) (4119,)\n"
     ]
    }
   ],
   "source": [
    " if 1 :\n",
    "    print(datetime.datetime.now(),'For:  ')\n",
    "    iil = []\n",
    "    for ii in (0,1,2) :\n",
    "        YY = np.load(os.path.join(dirForSave,'YY-'+str(ii)+'.npy'))\n",
    "        iil.append(len(YY))\n",
    "    iis = int(np.array(iil).sum())\n",
    "    \n",
    "    NN = np.array(['1234']*iis)\n",
    "    XX = np.zeros((iis,)+shape2D+(6,),dtype=np.float32)\n",
    "    YY = np.zeros((iis,)+shape2D+(1,),dtype=np.float32)\n",
    "    \n",
    "    iis = 0\n",
    "    \n",
    "    for ii in (0,1,2) :\n",
    "\n",
    "        if 0 :\n",
    "            TN  = np.load(os.path.join(dirForSave,'NN-'+str(ii)+'S.npy'))\n",
    "            T1  = np.load(os.path.join(dirForSave,'X1-'+str(ii)+'.npy'))\n",
    "            T2  = np.load(os.path.join(dirForSave,'X2-'+str(ii)+'.npy'))\n",
    "            TT  = np.load(os.path.join(dirForSave,'YY-'+str(ii)+'.npy'))\n",
    "        \n",
    "        if 0 : # 2018-02-15\n",
    "            TN  = np.load(os.path.join(dirForSave,'NN-'+str(ii)+'S.npy'))\n",
    "            T1  = np.load(os.path.join(dirForSave,'X1-'+str(ii)+'S.npy'))\n",
    "            T2  = np.load(os.path.join(dirForSave,'X2-'+str(ii)+'S.npy'))\n",
    "            TT  = np.load(os.path.join(dirForSave,'YY-'+str(ii)+'S.npy'))\n",
    "        \n",
    "        if 1 : # 2018-02-21\n",
    "            TN  = np.load(os.path.join(dirForSave,'NN-'+str(ii)+'S.npy'))\n",
    "            T1  = np.load(os.path.join(dirForSave,'X1-'+str(ii)+'S.npy'))\n",
    "            T2  = np.load(os.path.join(dirForSave,'X2-'+str(ii)+'S.npy'))\n",
    "            TT  = np.load(os.path.join(dirForSave,'YY-'+str(ii)+'S.npy'))\n",
    "        \n",
    "        YY[iis:iis+len(TT)], NN[iis:iis+len(TT)] = TT, TN\n",
    "        XX[iis:iis+len(TT),:,:,0:3]              = T1\n",
    "        XX[iis:iis+len(TT),:,:,3:6]              = T2\n",
    "        \n",
    "        \n",
    "        iis+= len(TT)\n",
    "        \n",
    "        del TT, T1, T2, TN\n",
    "        \n",
    "    \n",
    "\n",
    "    np.save(os.path.join(dirForSave,'train-NN-S6.npy'),NN)\n",
    "    np.save(os.path.join(dirForSave,'train-YY-S6.npy'),YY)\n",
    "    np.save(os.path.join(dirForSave,'train-XX-S6.npy'),XX)\n",
    "    \n",
    "\n",
    "    print(datetime.datetime.now(),'Save: ', XX.shape, YY.shape, NN.shape)\n",
    "    \n",
    "    \n",
    "    YY = YY/YY.max()\n",
    "    XX.shape,YY.shape, YY.max()"
   ]
  },
  {
   "cell_type": "code",
   "execution_count": null,
   "metadata": {
    "collapsed": true,
    "deletable": true,
    "editable": true
   },
   "outputs": [],
   "source": []
  },
  {
   "cell_type": "code",
   "execution_count": null,
   "metadata": {
    "collapsed": true,
    "deletable": true,
    "editable": true
   },
   "outputs": [],
   "source": [
    "# Dev build 3+3=6"
   ]
  },
  {
   "cell_type": "code",
   "execution_count": 24,
   "metadata": {
    "collapsed": false,
    "deletable": true,
    "editable": true
   },
   "outputs": [
    {
     "name": "stdout",
     "output_type": "stream",
     "text": [
      "2018-02-21 02:55:46.457958 For:  \n",
      "2018-02-21 02:57:00.078377 Save:  (1405, 416, 416, 6) (1405,)\n"
     ]
    }
   ],
   "source": [
    " if 1 :\n",
    "    print(datetime.datetime.now(),'For:  ')\n",
    "    iil = []\n",
    "    for ii in (0,1,2) :\n",
    "        YY = np.load(os.path.join(dirForSave,'dev-'+str(ii)+'-NN-S.npy'))\n",
    "        iil.append(len(YY))\n",
    "    iis = int(np.array(iil).sum())\n",
    "    \n",
    "    NN = np.array(['1234']*iis)\n",
    "    XX = np.zeros((iis,)+shape2D+(6,),dtype=np.float32)\n",
    "    \n",
    "    iis = 0\n",
    "    \n",
    "    for ii in (0,1,2) :\n",
    "\n",
    "        if 1 : # 2018-02-21\n",
    "            TN  = np.load(os.path.join(dirForSave,'dev-'+str(ii)+'-NN-S.npy'))\n",
    "            T1  = np.load(os.path.join(dirForSave,'dev-'+str(ii)+'-X1-S.npy'))\n",
    "            T2  = np.load(os.path.join(dirForSave,'dev-'+str(ii)+'-X2-S.npy'))\n",
    "        \n",
    "        NN[iis:iis+len(TN)]                      = TN\n",
    "        XX[iis:iis+len(TN),:,:,0:3]              = T1\n",
    "        XX[iis:iis+len(TN),:,:,3:6]              = T2\n",
    "        \n",
    "        \n",
    "        iis+= len(TN)\n",
    "        \n",
    "        del T1, T2, TN\n",
    "        \n",
    "    \n",
    "\n",
    "    np.save(os.path.join(dirForSave,'dev-NN-S6.npy'),NN)\n",
    "    np.save(os.path.join(dirForSave,'dev-XX-S6.npy'),XX)\n",
    "    \n",
    "\n",
    "    print(datetime.datetime.now(),'Save: ', XX.shape, NN.shape)"
   ]
  },
  {
   "cell_type": "code",
   "execution_count": null,
   "metadata": {
    "collapsed": true
   },
   "outputs": [],
   "source": [
    "# Build Test arrays 3+3=6"
   ]
  },
  {
   "cell_type": "code",
   "execution_count": 26,
   "metadata": {
    "collapsed": false,
    "deletable": true,
    "editable": true
   },
   "outputs": [
    {
     "name": "stdout",
     "output_type": "stream",
     "text": [
      "2018-02-23 05:27:04.856980\n",
      "2018-02-23 05:27:04.861051 (1358, 416, 416, 6) D\n",
      "2018-02-23 05:27:06.396171 0 0.116556978444 55 55 54 56\n",
      "2018-02-23 05:28:36.279520 100 0.118557774276 55 55 54 54\n",
      "2018-02-23 05:30:04.127896 200 0.146338524043 55 55 55 56\n",
      "2018-02-23 05:31:31.714768 300 0.120774868864 55 55 54 59\n",
      "2018-02-23 05:32:59.223947 400 0.107190340127 55 55 55 55\n",
      "2018-02-23 05:34:28.406313 500 0.0788800358778 55 55 55 55\n",
      "2018-02-23 05:35:56.601098 600 0.138193844243 55 55 53 54\n",
      "2018-02-23 05:37:24.718585 700 0.0771055474025 55 55 55 55\n",
      "2018-02-23 05:38:52.247799 800 0.239483193502 55 55 53 54\n",
      "2018-02-23 05:40:19.310520 900 0.125337400771 55 55 55 54\n",
      "2018-02-23 05:41:46.516347 1000 0.126004212684 55 55 55 53\n",
      "2018-02-23 05:43:14.250385 1100 0.143666511371 55 55 56 55\n",
      "2018-02-23 05:44:41.803859 1200 0.123388952189 55 55 55 57\n",
      "2018-02-23 05:46:09.345255 1300 0.122482899034 55 55 54 54\n",
      "2018-02-23 05:47:49.542089 Save: (1358, 416, 416, 6) D\n",
      "2018-02-23 05:47:49.762690\n"
     ]
    }
   ],
   "source": [
    "print(datetime.datetime.now())\n",
    "\n",
    "for ii,dirs in enumerate((dirTest,)) :\n",
    "    \n",
    "    #if ii==1 : break\n",
    "    \n",
    "    listTrainNN = NNTrain(dirs,ends='_ref.tif')\n",
    "\n",
    "    XX = np.zeros((len(listTrainNN),)+shape2D+(6,),dtype=np.float32)\n",
    "    \n",
    "    print(datetime.datetime.now(),XX.shape,dirTrain)\n",
    "    \n",
    "    for NN in range(len(listTrainNN)) :\n",
    "        img1 = cv.imread(os.path.join(dirs,listTrainNN[NN]+'.tif'),-1)\n",
    "        img2 = cv.imread(os.path.join(dirs,listTrainNN[NN]+'_ref.tif'),-1)\n",
    "\n",
    "\n",
    "\n",
    "        if 0 :\n",
    "            img1 = cv2.GaussianBlur(img1,(3,3),0)\n",
    "            img2 = cv2.GaussianBlur(img2,(3,3),0)\n",
    "\n",
    "        if 0 :\n",
    "            img1 = cv2.boxFilter(img1,-1,(5,5))\n",
    "            img2 = cv2.boxFilter(img2,-1,(5,5))\n",
    "\n",
    "\n",
    "        if 1 :\n",
    "            img1  = pictNorm(img1)\n",
    "            img2  = pictNorm(img2)\n",
    "\n",
    "        rcL2,_,_,r0,c0,ro,co  = minDeltaRC(img1,img2,ranging=range(-10,10))\n",
    "        img2X = img2[r0:r0+img1.shape[0],c0:c0+img1.shape[1]]\n",
    "        #####################img2X = np.array(img2[ro:(ro+img1.shape[0]),co:co+img1.shape[1]])\n",
    "        \n",
    "        #print(img2[ro:ro+img1.shape[0],co:co+img1.shape[1]].shape)\n",
    "        #print(img2.shape,img2X.shape,ro,ro+img1.shape[0],co,co+img1.shape[1])\n",
    "        \n",
    "        if NN%100==0 : print(datetime.datetime.now(),NN,rcL2,ro,co,r0,c0)\n",
    "\n",
    "        if 0 :\n",
    "            img1 = cv2.GaussianBlur(img1,(3,3),0)\n",
    "            img2X = cv2.GaussianBlur(img2X,(3,3),0)\n",
    "\n",
    "        if 0 :\n",
    "            img1  = cv2.boxFilter(img1, -1,(5,5))\n",
    "            img2X = cv2.boxFilter(img2X,-1,(5,5))\n",
    "\n",
    "        XX[NN,13:13+390,13:13+390,0:3], XX[NN,13:13+390,13:13+390,3:6] = img1, img2X\n",
    "\n",
    "\n",
    "    if 1 :\n",
    "        np.save(os.path.join(dirForSave,'test-NN-S6.npy'),np.array(listTrainNN))\n",
    "        np.save(os.path.join(dirForSave,'test-XX-S6.npy'),XX)\n",
    "        print(datetime.datetime.now(),'Save:',XX.shape,dirTrain)\n",
    "        \n",
    "    del XX\n",
    "        \n",
    "print(datetime.datetime.now())"
   ]
  },
  {
   "cell_type": "code",
   "execution_count": null,
   "metadata": {
    "collapsed": false
   },
   "outputs": [],
   "source": []
  }
 ],
 "metadata": {
  "kernelspec": {
   "display_name": "Python 2",
   "language": "python",
   "name": "python2"
  },
  "language_info": {
   "codemirror_mode": {
    "name": "ipython",
    "version": 2
   },
   "file_extension": ".py",
   "mimetype": "text/x-python",
   "name": "python",
   "nbconvert_exporter": "python",
   "pygments_lexer": "ipython2",
   "version": "2.7.13"
  }
 },
 "nbformat": 4,
 "nbformat_minor": 2
}
